{
 "cells": [
  {
   "cell_type": "markdown",
   "id": "9c4b42fa-2322-48ed-9095-df241fdb2689",
   "metadata": {},
   "source": [
    "# Temperature Prediction\n",
    "\n",
    "## Objective\n",
    "Predict the **temperature** based on humidity data.\n"
   ]
  },
  {
   "cell_type": "markdown",
   "id": "3e2d7635-161e-4fb4-a737-32877031634f",
   "metadata": {},
   "source": [
    "## Dataset Overview\n",
    "The dataset contains hourly or daily readings of humidity and temperature.\n"
   ]
  },
  {
   "cell_type": "markdown",
   "id": "b2104fff-d17f-4490-8b2d-3c79d1e4122f",
   "metadata": {},
   "source": [
    "## Workflow\n",
    "1. Load the dataset  \n",
    "2. Explore and clean the data  \n",
    "3. Train a regression model  \n",
    "4. Evaluate predictions\n"
   ]
  },
  {
   "cell_type": "code",
   "execution_count": 1,
   "id": "8319acc8-7852-47a2-ad0e-6bc6de735922",
   "metadata": {},
   "outputs": [],
   "source": [
    "# Import required libraries\n",
    "import pandas as pd\n",
    "import numpy as np\n",
    "import matplotlib.pyplot as plt\n",
    "import seaborn as sns\n",
    "\n",
    "from sklearn.model_selection import train_test_split\n",
    "from sklearn.linear_model import LinearRegression\n",
    "from sklearn.metrics import mean_squared_error, r2_score\n"
   ]
  },
  {
   "cell_type": "code",
   "execution_count": 2,
   "id": "3bba196b",
   "metadata": {},
   "outputs": [
    {
     "data": {
      "text/html": [
       "<div>\n",
       "<style scoped>\n",
       "    .dataframe tbody tr th:only-of-type {\n",
       "        vertical-align: middle;\n",
       "    }\n",
       "\n",
       "    .dataframe tbody tr th {\n",
       "        vertical-align: top;\n",
       "    }\n",
       "\n",
       "    .dataframe thead th {\n",
       "        text-align: right;\n",
       "    }\n",
       "</style>\n",
       "<table border=\"1\" class=\"dataframe\">\n",
       "  <thead>\n",
       "    <tr style=\"text-align: right;\">\n",
       "      <th></th>\n",
       "      <th>sensor_id</th>\n",
       "      <th>lat</th>\n",
       "      <th>lon</th>\n",
       "      <th>pressure</th>\n",
       "      <th>temperature</th>\n",
       "      <th>humidity</th>\n",
       "    </tr>\n",
       "  </thead>\n",
       "  <tbody>\n",
       "    <tr>\n",
       "      <th>0</th>\n",
       "      <td>2266</td>\n",
       "      <td>42.738</td>\n",
       "      <td>23.272</td>\n",
       "      <td>95270.27</td>\n",
       "      <td>23.46</td>\n",
       "      <td>62.48</td>\n",
       "    </tr>\n",
       "    <tr>\n",
       "      <th>1</th>\n",
       "      <td>2292</td>\n",
       "      <td>42.663</td>\n",
       "      <td>23.273</td>\n",
       "      <td>94355.83</td>\n",
       "      <td>23.06</td>\n",
       "      <td>59.46</td>\n",
       "    </tr>\n",
       "    <tr>\n",
       "      <th>2</th>\n",
       "      <td>3096</td>\n",
       "      <td>42.700</td>\n",
       "      <td>23.360</td>\n",
       "      <td>95155.81</td>\n",
       "      <td>26.53</td>\n",
       "      <td>44.38</td>\n",
       "    </tr>\n",
       "    <tr>\n",
       "      <th>3</th>\n",
       "      <td>3428</td>\n",
       "      <td>42.624</td>\n",
       "      <td>23.406</td>\n",
       "      <td>94679.57</td>\n",
       "      <td>28.34</td>\n",
       "      <td>38.28</td>\n",
       "    </tr>\n",
       "    <tr>\n",
       "      <th>4</th>\n",
       "      <td>3472</td>\n",
       "      <td>42.669</td>\n",
       "      <td>23.318</td>\n",
       "      <td>94327.88</td>\n",
       "      <td>26.31</td>\n",
       "      <td>46.37</td>\n",
       "    </tr>\n",
       "  </tbody>\n",
       "</table>\n",
       "</div>"
      ],
      "text/plain": [
       "   sensor_id     lat     lon  pressure  temperature  humidity\n",
       "0       2266  42.738  23.272  95270.27        23.46     62.48\n",
       "1       2292  42.663  23.273  94355.83        23.06     59.46\n",
       "2       3096  42.700  23.360  95155.81        26.53     44.38\n",
       "3       3428  42.624  23.406  94679.57        28.34     38.28\n",
       "4       3472  42.669  23.318  94327.88        26.31     46.37"
      ]
     },
     "execution_count": 2,
     "metadata": {},
     "output_type": "execute_result"
    }
   ],
   "source": [
    "df = pd.read_csv('humidity.csv')\n",
    "df.head()"
   ]
  },
  {
   "cell_type": "code",
   "execution_count": 3,
   "id": "3a3a687a",
   "metadata": {},
   "outputs": [
    {
     "name": "stdout",
     "output_type": "stream",
     "text": [
      "<class 'pandas.core.frame.DataFrame'>\n",
      "RangeIndex: 701548 entries, 0 to 701547\n",
      "Data columns (total 6 columns):\n",
      " #   Column       Non-Null Count   Dtype  \n",
      "---  ------       --------------   -----  \n",
      " 0   sensor_id    701548 non-null  int64  \n",
      " 1   lat          701548 non-null  float64\n",
      " 2   lon          701548 non-null  float64\n",
      " 3   pressure     701548 non-null  float64\n",
      " 4   temperature  701548 non-null  float64\n",
      " 5   humidity     701548 non-null  float64\n",
      "dtypes: float64(5), int64(1)\n",
      "memory usage: 32.1 MB\n"
     ]
    }
   ],
   "source": [
    "df.info()"
   ]
  },
  {
   "cell_type": "code",
   "execution_count": 4,
   "id": "e89caaab",
   "metadata": {},
   "outputs": [
    {
     "data": {
      "text/html": [
       "<div>\n",
       "<style scoped>\n",
       "    .dataframe tbody tr th:only-of-type {\n",
       "        vertical-align: middle;\n",
       "    }\n",
       "\n",
       "    .dataframe tbody tr th {\n",
       "        vertical-align: top;\n",
       "    }\n",
       "\n",
       "    .dataframe thead th {\n",
       "        text-align: right;\n",
       "    }\n",
       "</style>\n",
       "<table border=\"1\" class=\"dataframe\">\n",
       "  <thead>\n",
       "    <tr style=\"text-align: right;\">\n",
       "      <th></th>\n",
       "      <th>sensor_id</th>\n",
       "      <th>lat</th>\n",
       "      <th>lon</th>\n",
       "      <th>pressure</th>\n",
       "      <th>temperature</th>\n",
       "      <th>humidity</th>\n",
       "    </tr>\n",
       "  </thead>\n",
       "  <tbody>\n",
       "    <tr>\n",
       "      <th>count</th>\n",
       "      <td>701548.000000</td>\n",
       "      <td>701548.000000</td>\n",
       "      <td>701548.000000</td>\n",
       "      <td>701548.000000</td>\n",
       "      <td>701548.000000</td>\n",
       "      <td>701548.000000</td>\n",
       "    </tr>\n",
       "    <tr>\n",
       "      <th>mean</th>\n",
       "      <td>2835.419842</td>\n",
       "      <td>42.679722</td>\n",
       "      <td>23.333739</td>\n",
       "      <td>94965.292500</td>\n",
       "      <td>24.754990</td>\n",
       "      <td>48.348949</td>\n",
       "    </tr>\n",
       "    <tr>\n",
       "      <th>std</th>\n",
       "      <td>798.018890</td>\n",
       "      <td>0.025568</td>\n",
       "      <td>0.039365</td>\n",
       "      <td>2577.210945</td>\n",
       "      <td>14.013001</td>\n",
       "      <td>20.907247</td>\n",
       "    </tr>\n",
       "    <tr>\n",
       "      <th>min</th>\n",
       "      <td>1764.000000</td>\n",
       "      <td>42.622000</td>\n",
       "      <td>23.240000</td>\n",
       "      <td>0.000000</td>\n",
       "      <td>-145.120000</td>\n",
       "      <td>0.000000</td>\n",
       "    </tr>\n",
       "    <tr>\n",
       "      <th>25%</th>\n",
       "      <td>2224.000000</td>\n",
       "      <td>42.665000</td>\n",
       "      <td>23.310000</td>\n",
       "      <td>94528.017500</td>\n",
       "      <td>20.630000</td>\n",
       "      <td>34.140000</td>\n",
       "    </tr>\n",
       "    <tr>\n",
       "      <th>50%</th>\n",
       "      <td>2323.000000</td>\n",
       "      <td>42.685000</td>\n",
       "      <td>23.332000</td>\n",
       "      <td>95005.480000</td>\n",
       "      <td>24.780000</td>\n",
       "      <td>48.350000</td>\n",
       "    </tr>\n",
       "    <tr>\n",
       "      <th>75%</th>\n",
       "      <td>3474.000000</td>\n",
       "      <td>42.694000</td>\n",
       "      <td>23.360000</td>\n",
       "      <td>95405.132500</td>\n",
       "      <td>29.870000</td>\n",
       "      <td>62.940000</td>\n",
       "    </tr>\n",
       "    <tr>\n",
       "      <th>max</th>\n",
       "      <td>4661.000000</td>\n",
       "      <td>42.738000</td>\n",
       "      <td>23.419000</td>\n",
       "      <td>164926.750000</td>\n",
       "      <td>61.170000</td>\n",
       "      <td>100.000000</td>\n",
       "    </tr>\n",
       "  </tbody>\n",
       "</table>\n",
       "</div>"
      ],
      "text/plain": [
       "           sensor_id            lat            lon       pressure  \\\n",
       "count  701548.000000  701548.000000  701548.000000  701548.000000   \n",
       "mean     2835.419842      42.679722      23.333739   94965.292500   \n",
       "std       798.018890       0.025568       0.039365    2577.210945   \n",
       "min      1764.000000      42.622000      23.240000       0.000000   \n",
       "25%      2224.000000      42.665000      23.310000   94528.017500   \n",
       "50%      2323.000000      42.685000      23.332000   95005.480000   \n",
       "75%      3474.000000      42.694000      23.360000   95405.132500   \n",
       "max      4661.000000      42.738000      23.419000  164926.750000   \n",
       "\n",
       "         temperature       humidity  \n",
       "count  701548.000000  701548.000000  \n",
       "mean       24.754990      48.348949  \n",
       "std        14.013001      20.907247  \n",
       "min      -145.120000       0.000000  \n",
       "25%        20.630000      34.140000  \n",
       "50%        24.780000      48.350000  \n",
       "75%        29.870000      62.940000  \n",
       "max        61.170000     100.000000  "
      ]
     },
     "execution_count": 4,
     "metadata": {},
     "output_type": "execute_result"
    }
   ],
   "source": [
    "df.describe()"
   ]
  },
  {
   "cell_type": "markdown",
   "id": "cd1ea39e-7665-4767-9e04-52fe349b68d1",
   "metadata": {},
   "source": [
    "## Exploratory Data Analysis\n"
   ]
  },
  {
   "cell_type": "markdown",
   "id": "6268f42f-0c8a-4cb7-bcb8-673e960c9c62",
   "metadata": {},
   "source": [
    "## Data Preprocessing"
   ]
  },
  {
   "cell_type": "code",
   "execution_count": 5,
   "id": "5a1166fd-9f1f-4c3b-8b93-d8ef6a98ee6e",
   "metadata": {},
   "outputs": [
    {
     "data": {
      "text/plain": [
       "sensor_id      0\n",
       "lat            0\n",
       "lon            0\n",
       "pressure       0\n",
       "temperature    0\n",
       "humidity       0\n",
       "dtype: int64"
      ]
     },
     "execution_count": 5,
     "metadata": {},
     "output_type": "execute_result"
    }
   ],
   "source": [
    "# Drop any rows with missing values\n",
    "df.isnull().sum()\n"
   ]
  },
  {
   "cell_type": "code",
   "execution_count": 6,
   "id": "300735b8",
   "metadata": {},
   "outputs": [],
   "source": [
    "df_filtered = df[\n",
    "    (df['temperature'] > -50) &\n",
    "    (df['temperature'] < 60) &\n",
    "    (df['humidity'] > 0) &\n",
    "    (df['humidity'] <80)\n",
    "    ]\n"
   ]
  },
  {
   "cell_type": "code",
   "execution_count": 7,
   "id": "90d8516a",
   "metadata": {},
   "outputs": [
    {
     "name": "stderr",
     "output_type": "stream",
     "text": [
      "C:\\Users\\DELL\\AppData\\Local\\Temp\\ipykernel_20868\\1477822019.py:5: UserWarning: No artists with labels found to put in legend.  Note that artists whose label start with an underscore are ignored when legend() is called with no argument.\n",
      "  plt.legend()\n"
     ]
    },
    {
     "data": {
      "image/png": "[encoded data removed]",
      "text/plain": [
       "<Figure size 640x480 with 1 Axes>"
      ]
     },
     "metadata": {},
     "output_type": "display_data"
    }
   ],
   "source": [
    "plt.scatter(df_filtered['humidity'], df_filtered['temperature'], color='blue',alpha=0.5,marker='o')\n",
    "plt.xlabel('temperature')\n",
    "plt.ylabel('humidity')\n",
    "plt.title('Relation b/w Humidity and Temperature')\n",
    "plt.legend()\n",
    "plt.grid(True)\n",
    "plt.show()"
   ]
  },
  {
   "cell_type": "code",
   "execution_count": 8,
   "id": "c52cdb14",
   "metadata": {},
   "outputs": [],
   "source": [
    "x = df_filtered[['humidity']]\n",
    "y = df_filtered[['temperature']]\n"
   ]
  },
  {
   "cell_type": "markdown",
   "id": "ed36023b-2177-4fb1-97ec-183ddf72e7f4",
   "metadata": {},
   "source": [
    "## Model Training"
   ]
  },
  {
   "cell_type": "code",
   "execution_count": 9,
   "id": "4b2b6989-f604-4fe1-a9c2-bf854339f9f6",
   "metadata": {},
   "outputs": [
    {
     "data": {
      "text/plain": [
       "0.812641466913754"
      ]
     },
     "execution_count": 9,
     "metadata": {},
     "output_type": "execute_result"
    }
   ],
   "source": [
    "# Linear Regression\n",
    "model = LinearRegression()\n",
    "# train test split\n",
    "from sklearn.model_selection import train_test_split\n",
    "x_train,x_test,y_train,y_test = train_test_split(x,y,test_size=0.2,random_state=42)\n",
    "model.fit(x_train,y_train)\n",
    "model.score(x_test,y_test)\n",
    "\n"
   ]
  },
  {
   "cell_type": "code",
   "execution_count": 10,
   "id": "61696500",
   "metadata": {},
   "outputs": [
    {
     "name": "stdout",
     "output_type": "stream",
     "text": [
      "The value of predicted temperature is : 25.48 degree celcius\n"
     ]
    },
    {
     "name": "stderr",
     "output_type": "stream",
     "text": [
      "C:\\Users\\DELL\\AppData\\Roaming\\Python\\Python312\\site-packages\\sklearn\\utils\\validation.py:2739: UserWarning: X does not have valid feature names, but LinearRegression was fitted with feature names\n",
      "  warnings.warn(\n"
     ]
    }
   ],
   "source": [
    "# Predict\n",
    "model.fit(df_filtered[['humidity']],df_filtered['temperature'])\n",
    "humidity_input = float(input(\"Enter the value of humidity\"))\n",
    "predicted_temp = model.predict([[humidity_input]])\n",
    "print(f\"The value of predicted temperature is : {predicted_temp[0]:.2f} degree celcius\")\n"
   ]
  },
  {
   "cell_type": "markdown",
   "id": "f0714114-4a17-4e5b-a3ac-bba3fd85b8f2",
   "metadata": {},
   "source": [
    "## Evaluation\n"
   ]
  },
  {
   "cell_type": "code",
   "execution_count": 11,
   "id": "3c8e2223-6621-4dd2-82a6-bdd6ed6e12ee",
   "metadata": {},
   "outputs": [
    {
     "name": "stdout",
     "output_type": "stream",
     "text": [
      "R^2 score :  0.8126464340159165\n"
     ]
    }
   ],
   "source": [
    "# Evaluate model performance\n",
    "print(\"R^2 score : \", model.score(x_test,y_test))\n"
   ]
  },
  {
   "cell_type": "markdown",
   "id": "79db46d8-a909-46e8-ba44-451a362f4633",
   "metadata": {},
   "source": [
    "## Conclusion\n",
    "- A simple linear regression model was used to predict temperature from humidity.  \n",
    "- Consider using polynomial regression or time-series models for more complex patterns.\n"
   ]
  },
  {
   "cell_type": "code",
   "execution_count": 12,
   "id": "c17af9ce",
   "metadata": {},
   "outputs": [
    {
     "data": {
      "text/plain": [
       "array([42.738, 42.663, 42.7  , 42.624, 42.669, 42.709, 42.64 , 42.683,\n",
       "       42.693, 42.704, 42.678, 42.666, 42.657, 42.69 , 42.68 , 42.685,\n",
       "       42.66 , 42.651, 42.665, 42.686, 42.664, 42.71 , 42.645, 42.692,\n",
       "       42.671, 42.677, 42.691, 42.622, 42.702, 42.694, 42.703, 42.662,\n",
       "       42.675, 42.689, 42.654, 42.698, 42.625, 42.629, 42.706, 42.708])"
      ]
     },
     "execution_count": 12,
     "metadata": {},
     "output_type": "execute_result"
    }
   ],
   "source": [
    "df.lat.unique()"
   ]
  },
  {
   "cell_type": "code",
   "execution_count": 13,
   "id": "f8112985",
   "metadata": {},
   "outputs": [
    {
     "data": {
      "text/plain": [
       "array([23.272, 23.273, 23.36 , 23.406, 23.318, 23.398, 23.31 , 23.335,\n",
       "       23.333, 23.293, 23.354, 23.254, 23.359, 23.284, 23.349, 23.324,\n",
       "       23.301, 23.319, 23.332, 23.392, 23.351, 23.373, 23.419, 23.265,\n",
       "       23.311, 23.356, 23.364, 23.366, 23.371, 23.32 , 23.4  , 23.368,\n",
       "       23.357, 23.33 , 23.325, 23.289, 23.278, 23.291, 23.321, 23.316,\n",
       "       23.24 , 23.38 , 23.308, 23.307])"
      ]
     },
     "execution_count": 13,
     "metadata": {},
     "output_type": "execute_result"
    }
   ],
   "source": [
    "df.lon.unique()"
   ]
  },
  {
   "cell_type": "code",
   "execution_count": 14,
   "id": "60d85616",
   "metadata": {},
   "outputs": [
    {
     "data": {
      "text/plain": [
       "array([95270.27, 94355.83, 95155.81, ..., 96092.94, 93564.17, 96070.06])"
      ]
     },
     "execution_count": 14,
     "metadata": {},
     "output_type": "execute_result"
    }
   ],
   "source": [
    "df.pressure.unique()"
   ]
  },
  {
   "cell_type": "code",
   "execution_count": 16,
   "id": "ea3d22ef",
   "metadata": {},
   "outputs": [],
   "source": [
    "df_filtered = df[\n",
    "    (df['temperature'] > -50) &\n",
    "    (df['temperature'] < 60) &\n",
    "    (df['humidity'] > 0) &\n",
    "    (df['humidity'] <80) &\n",
    "    (df['lat']<43) &\n",
    "    (df['lon'] <24) &\n",
    "    (df['pressure'] <97000)\n",
    "    ]"
   ]
  },
  {
   "cell_type": "code",
   "execution_count": 18,
   "id": "47832be1",
   "metadata": {},
   "outputs": [],
   "source": [
    "x = df_filtered[['humidity','lat','lon','pressure']]\n",
    "y = df_filtered[['temperature']]\n"
   ]
  },
  {
   "cell_type": "code",
   "execution_count": 19,
   "id": "7eb62704",
   "metadata": {},
   "outputs": [
    {
     "data": {
      "text/plain": [
       "0.8207216784449076"
      ]
     },
     "execution_count": 19,
     "metadata": {},
     "output_type": "execute_result"
    }
   ],
   "source": [
    "# Linear Regression\n",
    "model = LinearRegression()\n",
    "# train test split\n",
    "from sklearn.model_selection import train_test_split\n",
    "x_train,x_test,y_train,y_test = train_test_split(x,y,test_size=0.2,random_state=42)\n",
    "model.fit(x_train,y_train)\n",
    "model.score(x_test,y_test)\n",
    "\n"
   ]
  },
  {
   "cell_type": "code",
   "execution_count": 23,
   "id": "30707ddf",
   "metadata": {},
   "outputs": [
    {
     "name": "stdout",
     "output_type": "stream",
     "text": [
      "The value of predicted temperature is : 21.72 degree celcius\n"
     ]
    },
    {
     "name": "stderr",
     "output_type": "stream",
     "text": [
      "C:\\Users\\DELL\\AppData\\Roaming\\Python\\Python312\\site-packages\\sklearn\\utils\\validation.py:2739: UserWarning: X does not have valid feature names, but LinearRegression was fitted with feature names\n",
      "  warnings.warn(\n"
     ]
    }
   ],
   "source": [
    "# Predict\n",
    "model.fit(df_filtered[['humidity','lat','lon','pressure']],df_filtered['temperature'])\n",
    "humidity_input = float(input(\"Enter the value of humidity\"))\n",
    "lat_input = float(input(\"Enter the value of latitude\"))\n",
    "lon_input = float(input(\"Enter the value of longitude\"))\n",
    "pressure_input = float(input(\"Enter the value of pressure\"))\n",
    "predicted_temp = model.predict([[humidity_input,lat_input,lon_input,pressure_input]])\n",
    "print(f\"The value of predicted temperature is : {predicted_temp[0]:.2f} degree celcius\")\n"
   ]
  },
  {
   "cell_type": "code",
   "execution_count": 22,
   "id": "c0c4ebb5",
   "metadata": {},
   "outputs": [
    {
     "name": "stdout",
     "output_type": "stream",
     "text": [
      "R^2 score :  0.8207247664291233\n"
     ]
    }
   ],
   "source": [
    "# Evaluate model performance\n",
    "print(\"R^2 score : \", model.score(x_test,y_test))"
   ]
  },
  {
   "cell_type": "code",
   "execution_count": 3,
   "id": "959b537f",
   "metadata": {},
   "outputs": [
    {
     "name": "stdout",
     "output_type": "stream",
     "text": [
      "File Zipped Successfully\n"
     ]
    }
   ],
   "source": [
    "import zipfile\n",
    "with zipfile.ZipFile(\"Temperature_ Prediction_Test.zip\",'w') as zipf:\n",
    "    zipf.write('Temperature_ Prediction_Test.ipynb')\n",
    "print('File Zipped Successfully')"
   ]
  }
 ],
 "metadata": {
  "kernelspec": {
   "display_name": "Python 3",
   "language": "python",
   "name": "python3"
  },
  "language_info": {
   "codemirror_mode": {
    "name": "ipython",
    "version": 3
   },
   "file_extension": ".py",
   "mimetype": "text/x-python",
   "name": "python",
   "nbconvert_exporter": "python",
   "pygments_lexer": "ipython3",
   "version": "3.12.6"
  }
 },
 "nbformat": 4,
 "nbformat_minor": 5
}
